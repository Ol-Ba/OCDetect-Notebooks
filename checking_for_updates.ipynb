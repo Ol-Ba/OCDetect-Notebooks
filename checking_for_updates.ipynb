{
 "cells": [
  {
   "cell_type": "code",
   "execution_count": 12,
   "metadata": {},
   "outputs": [],
   "source": [
    "import os\n",
    "import pandas as pd\n",
    "import csv\n",
    "import json\n",
    "import datetime"
   ]
  },
  {
   "cell_type": "code",
   "execution_count": 13,
   "metadata": {},
   "outputs": [],
   "source": [
    "# Define the pattern for subject names\n",
    "subjects = [\"01\", \"03\", \"04\", \"18\", \"20\", \"30\"]\n",
    "annotator_patterns = [\"a1\", \"a2\", \"a3\", \"a4\"]"
   ]
  },
  {
   "cell_type": "code",
   "execution_count": 17,
   "metadata": {},
   "outputs": [
    {
     "name": "stdout",
     "output_type": "stream",
     "text": [
      "File: a3_subject_18.csv\n",
      "Creation date: 2024-04-15 14:20:39.688110\n",
      "Last modification date: 2024-04-15 14:18:03\n",
      "\n",
      "File: a3_subject_04.csv\n",
      "Creation date: 2024-04-15 14:21:31.085044\n",
      "Last modification date: 2024-04-15 13:13:48\n",
      "\n",
      "File: a3_subject_20.csv\n",
      "Creation date: 2024-04-15 14:21:47.053334\n",
      "Last modification date: 2024-04-15 13:13:35\n",
      "\n"
     ]
    }
   ],
   "source": [
    "#Check for updated label files\n",
    "\n",
    "\n",
    "folder_path = '/dhc/groups/ocdetect/relabeled_subjects/'\n",
    "threshold_date = datetime.datetime(2024, 4, 1)\n",
    "files = os.listdir(folder_path)\n",
    "for file_name in files:\n",
    "    file_path = os.path.join(folder_path, file_name)\n",
    "    creation_time = os.path.getctime(file_path)\n",
    "    creation_date = datetime.datetime.fromtimestamp(creation_time)\n",
    "    modification_time = os.path.getmtime(file_path)\n",
    "    modification_date = datetime.datetime.fromtimestamp(modification_time)\n",
    "    if creation_date > threshold_date or modification_date > threshold_date:\n",
    "        print(\"File:\", file_name)\n",
    "        print(\"Creation date:\", creation_date)\n",
    "        print(\"Last modification date:\", modification_date)\n",
    "        print()"
   ]
  },
  {
   "cell_type": "code",
   "execution_count": 21,
   "metadata": {},
   "outputs": [],
   "source": [
    "def are_files_identical(file_path_a, file_path_b):\n",
    "    df_a = pd.read_csv(file_path_a)\n",
    "    df_b = pd.read_csv(file_path_b)\n",
    "    return df_a.equals(df_b)"
   ]
  },
  {
   "cell_type": "code",
   "execution_count": 23,
   "metadata": {},
   "outputs": [
    {
     "name": "stdout",
     "output_type": "stream",
     "text": [
      "Files /dhc/groups/ocdetect/relabel_split/OCDetect_20_recording_15_335c0b28-bdf1-4c49-8dab-603f4912aa7b/OCDetect_20_recording_15_335c0b28-bdf1-4c49-8dab-603f4912aa7b_4.csv and /dhc/groups/ocdetect/relabel_split/OCDetect_20_recording_16_8dbc0d78-b602-4f38-91de-6f42c9bd2b9d/OCDetect_20_recording_16_8dbc0d78-b602-4f38-91de-6f42c9bd2b9d_4.csv are identical.\n",
      "Files /dhc/groups/ocdetect/relabel_split/OCDetect_20_recording_15_335c0b28-bdf1-4c49-8dab-603f4912aa7b/OCDetect_20_recording_15_335c0b28-bdf1-4c49-8dab-603f4912aa7b_3.csv and /dhc/groups/ocdetect/relabel_split/OCDetect_20_recording_16_8dbc0d78-b602-4f38-91de-6f42c9bd2b9d/OCDetect_20_recording_16_8dbc0d78-b602-4f38-91de-6f42c9bd2b9d_3.csv are identical.\n",
      "Files /dhc/groups/ocdetect/relabel_split/OCDetect_20_recording_15_335c0b28-bdf1-4c49-8dab-603f4912aa7b/OCDetect_20_recording_15_335c0b28-bdf1-4c49-8dab-603f4912aa7b_2.csv and /dhc/groups/ocdetect/relabel_split/OCDetect_20_recording_16_8dbc0d78-b602-4f38-91de-6f42c9bd2b9d/OCDetect_20_recording_16_8dbc0d78-b602-4f38-91de-6f42c9bd2b9d_2.csv are identical.\n",
      "Files /dhc/groups/ocdetect/relabel_split/OCDetect_20_recording_15_335c0b28-bdf1-4c49-8dab-603f4912aa7b/OCDetect_20_recording_15_335c0b28-bdf1-4c49-8dab-603f4912aa7b_5.csv and /dhc/groups/ocdetect/relabel_split/OCDetect_20_recording_16_8dbc0d78-b602-4f38-91de-6f42c9bd2b9d/OCDetect_20_recording_16_8dbc0d78-b602-4f38-91de-6f42c9bd2b9d_5.csv are identical.\n",
      "Files /dhc/groups/ocdetect/relabel_split/OCDetect_20_recording_15_335c0b28-bdf1-4c49-8dab-603f4912aa7b/OCDetect_20_recording_15_335c0b28-bdf1-4c49-8dab-603f4912aa7b_6.csv and /dhc/groups/ocdetect/relabel_split/OCDetect_20_recording_16_8dbc0d78-b602-4f38-91de-6f42c9bd2b9d/OCDetect_20_recording_16_8dbc0d78-b602-4f38-91de-6f42c9bd2b9d_6.csv are identical.\n",
      "Files /dhc/groups/ocdetect/relabel_split/OCDetect_20_recording_15_335c0b28-bdf1-4c49-8dab-603f4912aa7b/OCDetect_20_recording_15_335c0b28-bdf1-4c49-8dab-603f4912aa7b_1.csv and /dhc/groups/ocdetect/relabel_split/OCDetect_20_recording_16_8dbc0d78-b602-4f38-91de-6f42c9bd2b9d/OCDetect_20_recording_16_8dbc0d78-b602-4f38-91de-6f42c9bd2b9d_1.csv are identical.\n",
      "Files /dhc/groups/ocdetect/relabel_split/OCDetect_20_recording_15_335c0b28-bdf1-4c49-8dab-603f4912aa7b/OCDetect_20_recording_15_335c0b28-bdf1-4c49-8dab-603f4912aa7b_8.csv and /dhc/groups/ocdetect/relabel_split/OCDetect_20_recording_16_8dbc0d78-b602-4f38-91de-6f42c9bd2b9d/OCDetect_20_recording_16_8dbc0d78-b602-4f38-91de-6f42c9bd2b9d_8.csv are identical.\n",
      "Files /dhc/groups/ocdetect/relabel_split/OCDetect_20_recording_15_335c0b28-bdf1-4c49-8dab-603f4912aa7b/OCDetect_20_recording_15_335c0b28-bdf1-4c49-8dab-603f4912aa7b_10.csv and /dhc/groups/ocdetect/relabel_split/OCDetect_20_recording_16_8dbc0d78-b602-4f38-91de-6f42c9bd2b9d/OCDetect_20_recording_16_8dbc0d78-b602-4f38-91de-6f42c9bd2b9d_10.csv are identical.\n",
      "Files /dhc/groups/ocdetect/relabel_split/OCDetect_20_recording_15_335c0b28-bdf1-4c49-8dab-603f4912aa7b/OCDetect_20_recording_15_335c0b28-bdf1-4c49-8dab-603f4912aa7b_9.csv and /dhc/groups/ocdetect/relabel_split/OCDetect_20_recording_16_8dbc0d78-b602-4f38-91de-6f42c9bd2b9d/OCDetect_20_recording_16_8dbc0d78-b602-4f38-91de-6f42c9bd2b9d_9.csv are identical.\n",
      "Files /dhc/groups/ocdetect/relabel_split/OCDetect_20_recording_15_335c0b28-bdf1-4c49-8dab-603f4912aa7b/OCDetect_20_recording_15_335c0b28-bdf1-4c49-8dab-603f4912aa7b_7.csv and /dhc/groups/ocdetect/relabel_split/OCDetect_20_recording_16_8dbc0d78-b602-4f38-91de-6f42c9bd2b9d/OCDetect_20_recording_16_8dbc0d78-b602-4f38-91de-6f42c9bd2b9d_7.csv are identical.\n",
      "identical files  10\n"
     ]
    }
   ],
   "source": [
    "#check if recording for participant 20 was updated\n",
    "path1 = '/dhc/groups/ocdetect/relabel_split/OCDetect_20_recording_15_335c0b28-bdf1-4c49-8dab-603f4912aa7b'\n",
    "path2 = '/dhc/groups/ocdetect/relabel_split/OCDetect_20_recording_16_8dbc0d78-b602-4f38-91de-6f42c9bd2b9d'\n",
    "files_path1 = [os.path.join(path1, file) for file in os.listdir(path1)]\n",
    "\n",
    "# Get a list of all files in path2\n",
    "files_path2 = [os.path.join(path2, file) for file in os.listdir(path2)]\n",
    "count = 0\n",
    "# Compare each file in path1 with each file in path2\n",
    "for file_path_a in files_path1:\n",
    "    for file_path_b in files_path2:\n",
    "        if are_files_identical(file_path_a, file_path_b):\n",
    "            print(f\"Files {file_path_a} and {file_path_b} are identical.\")\n",
    "            count +=1\n",
    "print('identical files ', count)"
   ]
  },
  {
   "cell_type": "code",
   "execution_count": null,
   "metadata": {},
   "outputs": [],
   "source": []
  }
 ],
 "metadata": {
  "kernelspec": {
   "display_name": "Python 3 (ipykernel)",
   "language": "python",
   "name": "python3"
  },
  "language_info": {
   "codemirror_mode": {
    "name": "ipython",
    "version": 3
   },
   "file_extension": ".py",
   "mimetype": "text/x-python",
   "name": "python",
   "nbconvert_exporter": "python",
   "pygments_lexer": "ipython3",
   "version": "3.12.2"
  }
 },
 "nbformat": 4,
 "nbformat_minor": 4
}
